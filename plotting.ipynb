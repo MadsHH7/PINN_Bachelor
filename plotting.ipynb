{
 "cells": [
  {
   "cell_type": "code",
   "execution_count": null,
   "metadata": {
    "vscode": {
     "languageId": "plaintext"
    }
   },
   "outputs": [],
   "source": [
    "import pandas as pd\n",
    "import matplotlib.pyplot as plt\n",
    "import vtk\n",
    "from vtk.util.numpy_support import vtk_to_numpy\n",
    "import matplotlib.tri as mtri\n",
    "import numpy as np"
   ]
  },
  {
   "cell_type": "code",
   "execution_count": null,
   "metadata": {
    "vscode": {
     "languageId": "plaintext"
    }
   },
   "outputs": [],
   "source": [
    "reader = vtk.vtkXMLPolyDataReader()\n",
    "# reader.SetFileName(\"/home/madshh7/PINN_Bachelor/Mads_leg/2D_Laplace/Results/LaplaceRectangle2D/outputs/2D_Laplace/validators/validator.vtp\")\n",
    "reader.SetFileName(\"/home/madshh7/PINN_Bachelor/Mads_leg/2D_Laplace/Results/LaplaceBend2D/outputs/2D_Pipe/validators/validator.vtp\")\n",
    "reader.Update()\n",
    "\n",
    "# Get the output data (vtkPolyData)\n",
    "polydata = reader.GetOutput()\n",
    "\n",
    "# Extract the VTK points\n",
    "\n",
    "vtk_points = vtk_to_numpy(polydata.GetPoints().GetData())\n",
    "points_2d = vtk_points[:, :2]\n",
    "\n",
    "# Create a Delaunay triangulation\n",
    "triang = mtri.Triangulation(points_2d[:, 0], points_2d[:, 1])\n",
    "\n",
    "# Extract the velocities\n",
    "vtk_point= polydata.GetPointData()\n",
    "u_true = vtk_to_numpy(vtk_point.GetArray(\"true_phi__x\"))\n",
    "v_true = vtk_to_numpy(vtk_point.GetArray(\"true_phi__y\"))\n",
    "\n",
    "# Compute velocity magnitude\n",
    "speed_true = np.sqrt(u_true**2 + v_true**2)\n",
    "\n",
    "u_pred = vtk_to_numpy(vtk_point.GetArray(\"pred_phi__x\"))\n",
    "v_pred = vtk_to_numpy(vtk_point.GetArray(\"pred_phi__y\"))\n",
    "\n",
    "# Compute velocity magnitude\n",
    "speed_pred = np.sqrt(u_pred**2 + v_pred**2)\n",
    "\n",
    "u_diff = np.abs(u_true - u_pred)\n",
    "v_diff = np.abs(v_true - v_pred)\n",
    "\n",
    "speed_diff = np.abs(speed_true - speed_pred)"
   ]
  },
  {
   "cell_type": "code",
   "execution_count": null,
   "metadata": {
    "vscode": {
     "languageId": "plaintext"
    }
   },
   "outputs": [],
   "source": [
    "plt.figure(figsize=(12, 6.5))  # Adjust width to fit two plots\n",
    "\n",
    "# Plot for speed_true\n",
    "plt.subplot(1, 2, 1)  # 1 row, 2 columns, 1st subplot\n",
    "contour1 = plt.tricontourf(triang, u_true, cmap=\"turbo\")\n",
    "plt.colorbar(contour1, label=\"Velocity Magnitude\")\n",
    "plt.title(\"True u-velocity\")\n",
    "plt.xlabel(\"X\")\n",
    "plt.ylabel(\"Y\")\n",
    "plt.axis(\"equal\")\n",
    "\n",
    "# Plot for speed_pred\n",
    "plt.subplot(1, 2, 2)  # 1 row, 2 columns, 2nd subplot\n",
    "contour2 = plt.tricontourf(triang, v_true, cmap=\"turbo\")\n",
    "plt.colorbar(contour2, label=\"Velocity Magnitude\")\n",
    "plt.title(\"True v-velocity\")\n",
    "plt.xlabel(\"X\")\n",
    "plt.ylabel(\"Y\")\n",
    "plt.axis(\"equal\")\n",
    "\n",
    "plt.tight_layout()  # Ensures no overlap between subplots\n",
    "plt.show()\n",
    "\n",
    "plt.figure(figsize=(12, 6.5))  # Adjust width to fit two plots\n",
    "\n",
    "# Plot for speed_true\n",
    "plt.subplot(1, 2, 1)  # 1 row, 2 columns, 1st subplot\n",
    "contour1 = plt.tricontourf(triang, u_pred, cmap=\"turbo\")\n",
    "plt.colorbar(contour1, label=\"Velocity Magnitude\")\n",
    "plt.title(\"Predicted u-velocity\")\n",
    "plt.xlabel(\"X\")\n",
    "plt.ylabel(\"Y\")\n",
    "plt.axis(\"equal\")\n",
    "\n",
    "# Plot for speed_pred\n",
    "plt.subplot(1, 2, 2)  # 1 row, 2 columns, 2nd subplot\n",
    "contour2 = plt.tricontourf(triang, v_pred, cmap=\"turbo\")\n",
    "plt.colorbar(contour2, label=\"Velocity Magnitude\")\n",
    "plt.title(\"Predicted v-velocity\")\n",
    "plt.xlabel(\"X\")\n",
    "plt.ylabel(\"Y\")\n",
    "plt.axis(\"equal\")\n",
    "\n",
    "plt.tight_layout()  # Ensures no overlap between subplots\n",
    "plt.show()\n",
    "\n",
    "plt.figure(figsize=(12, 6.5))  # Adjust width to fit two plots\n",
    "\n",
    "# Plot for speed_true\n",
    "plt.subplot(1, 2, 1)  # 1 row, 2 columns, 1st subplot\n",
    "contour1 = plt.tricontourf(triang, u_diff, cmap=\"turbo\")\n",
    "plt.colorbar(contour1, label=\"Velocity Magnitude\")\n",
    "plt.title(\"Absolute difference u-velocity\")\n",
    "plt.xlabel(\"X\")\n",
    "plt.ylabel(\"Y\")\n",
    "plt.axis(\"equal\")\n",
    "\n",
    "# Plot for speed_pred\n",
    "plt.subplot(1, 2, 2)  # 1 row, 2 columns, 2nd subplot\n",
    "contour2 = plt.tricontourf(triang, v_diff, cmap=\"turbo\")\n",
    "plt.colorbar(contour2, label=\"Velocity Magnitude\")\n",
    "plt.title(\"Absolute difference v-velocity\")\n",
    "plt.xlabel(\"X\")\n",
    "plt.ylabel(\"Y\")\n",
    "plt.axis(\"equal\")\n",
    "\n",
    "plt.tight_layout()  # Ensures no overlap between subplots\n",
    "plt.show()"
   ]
  }
 ],
 "metadata": {
  "language_info": {
   "name": "python"
  }
 },
 "nbformat": 4,
 "nbformat_minor": 2
}
